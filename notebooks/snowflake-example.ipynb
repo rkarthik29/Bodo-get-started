{
 "cells": [
  {
   "cell_type": "markdown",
   "id": "27e712ee-be4a-47cf-9bcd-9aaa728a4993",
   "metadata": {},
   "source": [
    "### Get Started with snowflake.\n",
    "\n",
    "Update the sf.txt file under the creds folder to enter your snowflake account details.\n",
    "\n",
    "Once done, run the cell below to connect to Snowflake and create a bodo snowflake catalog.\n"
   ]
  },
  {
   "cell_type": "code",
   "execution_count": null,
   "id": "4fbd189f-5858-4786-8b85-c02256040885",
   "metadata": {},
   "outputs": [],
   "source": [
    "%%px\n",
    "import os\n",
    "with  open(\"creds/sf.txt\",\"r\") as f:\n",
    "    for line in f:\n",
    "        vals=line.strip().split('=')\n",
    "        os.environ[vals[0]]=vals[1]\n",
    "#conn_str = f\"snowflake://{os.environ['sf_username']}:{os.environ['sf_password']}@{os.environ['sf_account']}/{os.environ['SCHEMA']}/_TEMP?warehouse={os.environ['WAREHOUSE']}\"\n",
    "catalog = bodosql.SnowflakeCatalog(\n",
    "    os.environ['username'],\n",
    "    os.environ['password'],\n",
    "    os.environ['account'],\n",
    "    os.environ['warehouse'], # warehouse name\n",
    "    os.environ['database'], # database name\n",
    "    connection_params={\"schema\": os.environ['schema']}\n",
    ")\n",
    "bc = bodosql.BodoSQLContext(catalog=catalog)\n"
   ]
  },
  {
   "cell_type": "markdown",
   "id": "5ec99ff5-f2a9-4cfd-a496-3cc323b7b061",
   "metadata": {},
   "source": [
    "### Start querying\n",
    "\n",
    "Start doing your costly or Slow snowflake ETL jobs/queries in Bodo. Simply place your queries in the below function.\n",
    "replace the text inside bc.sql, with your snowflake query. Bodo is on way to 100% compatibility with snowflake and spark sql. \n",
    "if you find any issues with SQL execution, please report to bodo.ai"
   ]
  },
  {
   "cell_type": "code",
   "execution_count": null,
   "id": "793e60c3-c5b2-4624-9a83-58d0682d1fb8",
   "metadata": {},
   "outputs": [],
   "source": [
    "%%px\n",
    "\n",
    "@bodo.jit(cache=True)\n",
    "def sf_query(bc):\n",
    "    start=time.time()\n",
    "    df=bc.sql(\"\"\"--place your snowflake query here\"\"\")\n",
    "    print(f\"time for snowflake query {time.time()-start}\")\n",
    "    return df\n",
    "        \n",
    "df=sf_query(bc)\n",
    "df"
   ]
  }
 ],
 "metadata": {
  "kernelspec": {
   "display_name": "Bodo-IPyParallel-Kernel",
   "language": "python",
   "name": "bodo_platform_ipyparallel_kernel"
  },
  "language_info": {
   "codemirror_mode": {
    "name": "ipython",
    "version": 3
   },
   "file_extension": ".py",
   "mimetype": "text/x-python",
   "name": "python",
   "nbconvert_exporter": "python",
   "pygments_lexer": "ipython3",
   "version": "3.9.15"
  }
 },
 "nbformat": 4,
 "nbformat_minor": 5
}
