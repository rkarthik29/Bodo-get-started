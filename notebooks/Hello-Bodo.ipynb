{
 "cells": [
  {
   "cell_type": "markdown",
   "id": "389ca211-29d2-423a-89ee-048336c6b5e3",
   "metadata": {},
   "source": [
    "## welcome to bodo\n",
    "Bodo is a distributed data processing platform. Run your data jobs at massive scales upto several 1000 cores.\n",
    "To start using bodo on this emr cluster, ensure that the Bodo IpyParallel Kernel is selected as shown below.\n",
    "Once selected, just submit a task to the cluster from a cell using the %%px magic. see the cell bellow.\n",
    "Alternately, you can set %autopx so every cell is executed on the cluster.\n",
    "<br><img src=\"images/kernel.png\" alt=\"drawing\" height=\"300\" width=\"300\"/>"
   ]
  },
  {
   "cell_type": "markdown",
   "id": "3ac14cbf-9c61-407f-a621-60495a17f18f",
   "metadata": {},
   "source": [
    "## Run the cell below to import Bodo"
   ]
  },
  {
   "cell_type": "code",
   "execution_count": 1,
   "id": "bd5a1216-08b0-437f-82d1-448e9924e39f",
   "metadata": {},
   "outputs": [
    {
     "name": "stdout",
     "output_type": "stream",
     "text": [
      "Starting 6 engines with <class 'bodo_platform_ipyparallel_kernel.launcher.BodoPlatformMPIEngineSetLauncher'>\n",
      "100%|████████████████████████████████████████████████████████████████████████████████████████████████████████████████████████████████████████████████████████████████████████████████████████████████| 6/6 [00:06<00:00,  1.14s/engine]\n",
      "%px:   0%|                                                                                                                                                                                                    | 0/6 [00:10<?, ?tasks/s]"
     ]
    },
    {
     "data": {
      "text/plain": [
       "[stdout:2] 2022.9\n"
      ]
     },
     "metadata": {},
     "output_type": "display_data"
    },
    {
     "data": {
      "text/plain": [
       "[stdout:0] 2022.9\n"
      ]
     },
     "metadata": {},
     "output_type": "display_data"
    },
    {
     "data": {
      "text/plain": [
       "[stdout:4] 2022.9\n"
      ]
     },
     "metadata": {},
     "output_type": "display_data"
    },
    {
     "data": {
      "text/plain": [
       "[stdout:3] 2022.9\n"
      ]
     },
     "metadata": {},
     "output_type": "display_data"
    },
    {
     "data": {
      "text/plain": [
       "[stdout:1] 2022.9\n"
      ]
     },
     "metadata": {},
     "output_type": "display_data"
    },
    {
     "data": {
      "text/plain": [
       "[stdout:5] 2022.9\n"
      ]
     },
     "metadata": {},
     "output_type": "display_data"
    },
    {
     "name": "stdout",
     "output_type": "stream",
     "text": [
      "%px: 100%|████████████████████████████████████████████████████████████████████████████████████████████████████████████████████████████████████████████████████████████████████████████████████████████| 6/6 [00:10<00:00,  1.68s/tasks]\n"
     ]
    }
   ],
   "source": [
    "%%px\n",
    "import bodo\n",
    "print(bodo.__version__)"
   ]
  },
  {
   "cell_type": "markdown",
   "id": "583f2ae0-bf0a-47bf-b032-697cf7f847a4",
   "metadata": {},
   "source": [
    "## Run the cell below to import Bodo and check the cluster cores and cluster rank"
   ]
  },
  {
   "cell_type": "code",
   "execution_count": 2,
   "id": "0c56dd9f-7583-42c9-90b1-78e04d248e4a",
   "metadata": {},
   "outputs": [
    {
     "data": {
      "text/plain": [
       "[stdout:0] hello from rank 0 off 6\n"
      ]
     },
     "metadata": {},
     "output_type": "display_data"
    },
    {
     "data": {
      "text/plain": [
       "[stdout:4] hello from rank 4 off 6\n"
      ]
     },
     "metadata": {},
     "output_type": "display_data"
    },
    {
     "data": {
      "text/plain": [
       "[stdout:2] hello from rank 2 off 6\n"
      ]
     },
     "metadata": {},
     "output_type": "display_data"
    },
    {
     "data": {
      "text/plain": [
       "[stdout:5] hello from rank 5 off 6\n"
      ]
     },
     "metadata": {},
     "output_type": "display_data"
    },
    {
     "data": {
      "text/plain": [
       "[stdout:3] hello from rank 3 off 6\n"
      ]
     },
     "metadata": {},
     "output_type": "display_data"
    },
    {
     "data": {
      "text/plain": [
       "[stdout:1] hello from rank 1 off 6\n"
      ]
     },
     "metadata": {},
     "output_type": "display_data"
    },
    {
     "name": "stdout",
     "output_type": "stream",
     "text": [
      "Sending signal 9 to engine(s) 1671681145\n",
      "Stopping controller\n",
      "engine set stopped 1671681145: {'exit_code': <Negsignal.SIGKILL: -9>, 'pid': 53155, 'identifier': 'ipengine-1671681143-yyve-1671681145-53144'}\n",
      "Failed to remove /Users/karthiknarayanan/.ipython/profile_default/log/ipcontroller-1671681143-yyve-53144.log: [Errno 2] No such file or directory: '/Users/karthiknarayanan/.ipython/profile_default/log/ipcontroller-1671681143-yyve-53144.log'\n",
      "Controller stopped: {'exit_code': 0, 'pid': 53151, 'identifier': 'ipcontroller-1671681143-yyve-53144'}\n",
      "Stopping engine(s): 1671681145\n"
     ]
    }
   ],
   "source": [
    "%%px\n",
    "import bodo\n",
    "print(f\"hello from rank {bodo.get_rank()} off {bodo.get_size()}\")"
   ]
  },
  {
   "cell_type": "markdown",
   "id": "c723e24a-cc5d-405b-ad1d-5d6a5cc23486",
   "metadata": {},
   "source": [
    "## Run the cell below to import BodoSQL"
   ]
  },
  {
   "cell_type": "code",
   "execution_count": 4,
   "id": "351f1bb2-637b-4bb2-a913-8fe0f17a022c",
   "metadata": {},
   "outputs": [
    {
     "name": "stdout",
     "output_type": "stream",
     "text": [
      "Stopping controller\n",
      "Controller stopped: {'exit_code': 0, 'pid': 4132, 'identifier': 'ipcontroller-1658607230-jluv-4113'}\n",
      "Stopping engine(s): 1658607231\n"
     ]
    }
   ],
   "source": [
    "%%px\n",
    "import bodosql"
   ]
  },
  {
   "cell_type": "markdown",
   "id": "73969fef-98c1-47e0-8b9f-529afd9b2586",
   "metadata": {},
   "source": [
    "## Hungry for more, check out bodo-examples folder/divvy_examples_s3 for more...\n"
   ]
  },
  {
   "cell_type": "code",
   "execution_count": null,
   "id": "9fdd8d72-e60c-4335-8a21-4ccef6a0eec3",
   "metadata": {},
   "outputs": [],
   "source": []
  }
 ],
 "metadata": {
  "kernelspec": {
   "display_name": "Bodo-IPyParallel-Kernel",
   "language": "python",
   "name": "bodo_platform_ipyparallel_kernel"
  },
  "language_info": {
   "codemirror_mode": {
    "name": "ipython",
    "version": 3
   },
   "file_extension": ".py",
   "mimetype": "text/x-python",
   "name": "python",
   "nbconvert_exporter": "python",
   "pygments_lexer": "ipython3",
   "version": "3.9.15"
  }
 },
 "nbformat": 4,
 "nbformat_minor": 5
}
